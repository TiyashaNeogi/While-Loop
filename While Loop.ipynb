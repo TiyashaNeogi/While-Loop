{
 "cells": [
  {
   "cell_type": "code",
   "execution_count": 1,
   "id": "75071c4a-1714-4294-aaf1-ed37b503fb5b",
   "metadata": {},
   "outputs": [
    {
     "name": "stdout",
     "output_type": "stream",
     "text": [
      "1\n",
      "2\n",
      "3\n",
      "4\n",
      "5\n",
      "6\n",
      "7\n",
      "8\n",
      "9\n",
      "10\n"
     ]
    }
   ],
   "source": [
    "a=1\n",
    "\n",
    "while a<=10:       # while loop at first checked condition \n",
    "    print(a)\n",
    "    a = a+1\n",
    "    "
   ]
  },
  {
   "cell_type": "code",
   "execution_count": 4,
   "id": "5d034569-ace9-49c3-a8b9-cbc7a9421e83",
   "metadata": {},
   "outputs": [
    {
     "name": "stdin",
     "output_type": "stream",
     "text": [
      "Enter your limit 5\n"
     ]
    },
    {
     "data": {
      "text/plain": [
       "15"
      ]
     },
     "execution_count": 4,
     "metadata": {},
     "output_type": "execute_result"
    }
   ],
   "source": [
    "#sum up the number till some point\n",
    "n = int(input(\"Enter your limit\"))\n",
    "starting_point = 0\n",
    "counter = 1\n",
    "while counter <= n:   #1+2+3+4+5 =15\n",
    "    starting_point = starting_point + counter\n",
    "    counter = counter + 1\n",
    "starting_point"
   ]
  },
  {
   "cell_type": "code",
   "execution_count": 7,
   "id": "906cb510-ea5d-40e4-a3dd-8b96e81b70c3",
   "metadata": {},
   "outputs": [
    {
     "name": "stdin",
     "output_type": "stream",
     "text": [
      "Enter your number:  3\n"
     ]
    },
    {
     "data": {
      "text/plain": [
       "6"
      ]
     },
     "execution_count": 7,
     "metadata": {},
     "output_type": "execute_result"
    }
   ],
   "source": [
    "#factorial\n",
    "number = int(input(\"Enter your number: \"))\n",
    "factorial = 1\n",
    "while number > 0:     # 3 * 2 * 1 = 6\n",
    "    factorial = factorial * number\n",
    "    number = number - 1\n",
    "factorial"
   ]
  },
  {
   "cell_type": "code",
   "execution_count": 12,
   "id": "361c290e-8dfc-40f6-9690-e9487226270d",
   "metadata": {},
   "outputs": [
    {
     "name": "stdin",
     "output_type": "stream",
     "text": [
      "Enter the number of element you are looking for :  10\n"
     ]
    },
    {
     "name": "stdout",
     "output_type": "stream",
     "text": [
      "0\n",
      "1\n",
      "1\n",
      "2\n",
      "3\n",
      "5\n",
      "8\n",
      "13\n",
      "21\n",
      "34\n"
     ]
    }
   ],
   "source": [
    "#fibonacci series using while loop\n",
    "number = int(input(\"Enter the number of element you are looking for : \"))\n",
    "a , b = 0,1\n",
    "counter = 0\n",
    "while counter < number :\n",
    "    print(a)\n",
    "    c = a+b\n",
    "    a=b\n",
    "    b=c\n",
    "    counter = counter +1"
   ]
  },
  {
   "cell_type": "markdown",
   "id": "fcc9b530-ec5c-4d08-a003-1031ad92d548",
   "metadata": {},
   "source": [
    "#fibonacci series : 0 1 1 2 3 5 8 13 21 34\n",
    "0\n",
    "0+1 =1\n",
    "1+1 =2\n",
    "1+2=3\n",
    "2+3=5\n",
    "3+5=8\n",
    "5+8=13\n",
    "8+13=21\n",
    "13+21=34"
   ]
  },
  {
   "cell_type": "code",
   "execution_count": 11,
   "id": "565030e8-d49f-4286-9769-45aa7124c53d",
   "metadata": {},
   "outputs": [
    {
     "name": "stdout",
     "output_type": "stream",
     "text": [
      "0\n",
      "1\n",
      "1\n",
      "2\n",
      "3\n",
      "5\n",
      "8\n",
      "13\n",
      "21\n",
      "34\n"
     ]
    }
   ],
   "source": [
    "#fibonacci series using for loop\n",
    "a , b = 0,1\n",
    "counter = 0\n",
    "for i in range(10):\n",
    "    print(a)\n",
    "    c = a+b\n",
    "    a=b\n",
    "    b=c\n",
    "    counter = counter +1"
   ]
  },
  {
   "cell_type": "code",
   "execution_count": 13,
   "id": "031590e7-9804-4b2a-8657-20cea31b5fc0",
   "metadata": {},
   "outputs": [
    {
     "data": {
      "text/plain": [
       "'ahsayit'"
      ]
     },
     "execution_count": 13,
     "metadata": {},
     "output_type": "execute_result"
    }
   ],
   "source": [
    "s=\"tiyasha\"\n",
    "s[::-1]"
   ]
  },
  {
   "cell_type": "code",
   "execution_count": 16,
   "id": "7c4af6a8-6dc8-4396-a3d8-fa906d620991",
   "metadata": {},
   "outputs": [
    {
     "name": "stdin",
     "output_type": "stream",
     "text": [
      "Enter your string for reversal:  tiyasha\n"
     ]
    },
    {
     "name": "stdout",
     "output_type": "stream",
     "text": [
      "ahsayit\n"
     ]
    }
   ],
   "source": [
    "#reverse using while loop\n",
    "word = input(\"Enter your string for reversal: \")\n",
    "reverse = \"\"\n",
    "length = len(word)\n",
    "while length > 0:\n",
    "    reverse = reverse +word[length-1]\n",
    "    length = length - 1\n",
    "print(reverse)"
   ]
  },
  {
   "cell_type": "code",
   "execution_count": 17,
   "id": "1bd2dd75-ae80-4597-a95b-7ec5abdf19f3",
   "metadata": {},
   "outputs": [
    {
     "data": {
      "text/plain": [
       "7"
      ]
     },
     "execution_count": 17,
     "metadata": {},
     "output_type": "execute_result"
    }
   ],
   "source": [
    "len(word)"
   ]
  },
  {
   "cell_type": "code",
   "execution_count": 24,
   "id": "0d4eed79-1794-490c-9e18-68259ab70116",
   "metadata": {},
   "outputs": [
    {
     "name": "stdin",
     "output_type": "stream",
     "text": [
      "Enter your number:  5\n"
     ]
    },
    {
     "name": "stdout",
     "output_type": "stream",
     "text": [
      "5 * 1 = 5\n",
      "5 * 2 = 10\n",
      "5 * 3 = 15\n",
      "5 * 4 = 20\n",
      "5 * 5 = 25\n",
      "5 * 6 = 30\n",
      "5 * 7 = 35\n",
      "5 * 8 = 40\n",
      "5 * 9 = 45\n",
      "5 * 10 = 50\n"
     ]
    }
   ],
   "source": [
    "#print table of numbers\n",
    "n = int(input(\"Enter your number: \"))\n",
    "i=1\n",
    "while i <=10:\n",
    "    result = n*i\n",
    "    print(n,\"*\",i,\"=\",result)\n",
    "    i = i+1"
   ]
  },
  {
   "cell_type": "code",
   "execution_count": 27,
   "id": "bd7a4125-b485-4041-882c-f1f6ea2d6207",
   "metadata": {},
   "outputs": [
    {
     "name": "stdout",
     "output_type": "stream",
     "text": [
      "1\n",
      "2\n",
      "3\n",
      "4\n",
      "This will be executed once your while will completed it succesfully!!\n"
     ]
    }
   ],
   "source": [
    "n = 5 \n",
    "i=1\n",
    "while i <n:\n",
    "    print(i)\n",
    "    i = i+1\n",
    "else:\n",
    "    print(\"This will be executed once your while will completed it succesfully!!\")"
   ]
  },
  {
   "cell_type": "code",
   "execution_count": 28,
   "id": "939d0ac8-8a29-4589-af5c-dfbfd7c40fb8",
   "metadata": {},
   "outputs": [
    {
     "name": "stdout",
     "output_type": "stream",
     "text": [
      "1\n",
      "2\n",
      "3\n"
     ]
    }
   ],
   "source": [
    "n = 5 \n",
    "i=1\n",
    "while i <n:\n",
    "    print(i)\n",
    "    if i == 3:\n",
    "        break\n",
    "    i = i+1\n",
    "else:\n",
    "    print(\"This will be executed once your while will completed it succesfully!!\")"
   ]
  },
  {
   "cell_type": "code",
   "execution_count": null,
   "id": "5bf090f5-a1b2-4e95-aaab-acd56c095b75",
   "metadata": {},
   "outputs": [],
   "source": []
  }
 ],
 "metadata": {
  "kernelspec": {
   "display_name": "Python 3 (ipykernel)",
   "language": "python",
   "name": "python3"
  },
  "language_info": {
   "codemirror_mode": {
    "name": "ipython",
    "version": 3
   },
   "file_extension": ".py",
   "mimetype": "text/x-python",
   "name": "python",
   "nbconvert_exporter": "python",
   "pygments_lexer": "ipython3",
   "version": "3.10.8"
  }
 },
 "nbformat": 4,
 "nbformat_minor": 5
}
